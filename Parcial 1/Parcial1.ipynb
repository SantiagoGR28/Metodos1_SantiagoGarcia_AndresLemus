{
  "nbformat": 4,
  "nbformat_minor": 0,
  "metadata": {
    "colab": {
      "provenance": []
    },
    "kernelspec": {
      "name": "python3",
      "display_name": "Python 3"
    },
    "language_info": {
      "name": "python"
    }
  },
  "cells": [
    {
      "cell_type": "code",
      "execution_count": 1,
      "metadata": {
        "id": "knrFlBNZ8OqJ"
      },
      "outputs": [],
      "source": [
        "import numpy as np\n",
        "import matplotlib.pyplot as plt\n",
        "from matplotlib import rc\n",
        "import sympy as sym\n"
      ]
    },
    {
      "cell_type": "code",
      "source": [
        "T = np.array([-3,2])\n",
        "R = np.array([2,-2])"
      ],
      "metadata": {
        "id": "FEDDCcKfCMzj"
      },
      "execution_count": 2,
      "outputs": []
    },
    {
      "cell_type": "code",
      "source": [
        "x = np.linspace(-3,3,10)"
      ],
      "metadata": {
        "id": "2qTgAGDbCbtq"
      },
      "execution_count": 3,
      "outputs": []
    },
    {
      "cell_type": "code",
      "source": [
        "def time(x):\n",
        "    t= ( (((x-T[0])**2)+ (T[1]**2) )**(1/2) )  + 1.33 * ( ( ((x-R[0])**2) + (R[1]**2)  )**(1/2) )\n",
        "    return t\n",
        "  #cualitativamente se estima que el punto del laser que minimiza el camino es (2,0)\n",
        "def derivada(x):\n",
        "    valor= 1.33* ((x-2) / ((x-2)**2+ 4)**(1/2)) + ( (x-3) / (((x-3)**2)+4)**(1/2) )\n",
        "    return valor \n",
        "x = np.linspace(-3,3,10)\n",
        "y = time(x)\n",
        "plt.plot(x,y)\n",
        "plt.axhline(y=0,color='r')\n",
        "def GetNewtonRaphson(f,df,xn,itmax = 100, precision=1e-6):\n",
        "    \n",
        "    error = 1\n",
        "    it = 0\n",
        "    \n",
        "    while error > precision and it < itmax:\n",
        "        \n",
        "        try:\n",
        "            \n",
        "            xn1 = xn - f(xn)/df(f,xn)\n",
        "            \n",
        "            error = np.abs(f(xn)/df(f,xn))\n",
        "            \n",
        "        except ZeroDivisionError:\n",
        "            \n",
        "            print('Division por cero')\n",
        "            \n",
        "        it += 1\n",
        "        xn = xn1\n",
        "            \n",
        "    return xn\n",
        "#x = GetNewtonRaphson(Function,Derivative,4)\"\"\"\""
      ],
      "metadata": {
        "colab": {
          "base_uri": "https://localhost:8080/",
          "height": 265
        },
        "id": "4i9WP2BxCz2w",
        "outputId": "72a208dd-f84d-4484-e425-9a2b566f3a3b"
      },
      "execution_count": 10,
      "outputs": [
        {
          "output_type": "display_data",
          "data": {
            "text/plain": [
              "<Figure size 432x288 with 1 Axes>"
            ],
            "image/png": "[encoded data removed]"
          },
          "metadata": {
            "needs_background": "light"
          }
        }
      ]
    },
    {
      "cell_type": "code",
      "source": [],
      "metadata": {
        "id": "zyBJv2kcNuMU"
      },
      "execution_count": null,
      "outputs": []
    }
  ]
}