{
 "cells": [
  {
   "cell_type": "code",
   "execution_count": 10,
   "id": "865f07e2",
   "metadata": {},
   "outputs": [
    {
     "name": "stdout",
     "output_type": "stream",
     "text": [
      "[-1.8471  0.      0.1805]\n"
     ]
    }
   ],
   "source": [
    "import numpy as np\n",
    "valor_s = np.linspace(-2,2,200)\n",
    "def funcion(x):\n",
    "    fn= (3*(x**5)) + (5*(x**4)) - (x**3)\n",
    "    return fn\n",
    "def derivada(x):\n",
    "    der= (15*(x**4)) + (20*(x**3)) - (3*(x**2))\n",
    "    return der\n",
    "def raices_reales(funcion,derivada,xn):\n",
    "    rep_max = 100\n",
    "    precision=10e-6\n",
    "    error = 1\n",
    "    rep = 0\n",
    "    while error > precision and rep <= rep_max:    \n",
    "        xn_prus1 = xn - funcion(xn)/derivada(xn)      \n",
    "        error = np.abs(funcion(xn)/derivada(xn))            \n",
    "        rep += 1\n",
    "        xn = xn_prus1\n",
    "    \n",
    "    if rep == rep_max:\n",
    "        False\n",
    "    else:\n",
    "        return xn\n",
    "    \n",
    "def raices_polinomio(xn,tolerancia=4):\n",
    "    \n",
    "    Roots = np.array([])\n",
    "    \n",
    "    for i in xn:\n",
    "        \n",
    "        root = raices_reales(funcion,derivada,i)\n",
    "        \n",
    "        if root != False:\n",
    "            \n",
    "            croot = np.round(root, tolerancia)\n",
    "            \n",
    "            if croot not in Roots:\n",
    "                Roots = np.append(Roots,croot)\n",
    "                \n",
    "    Roots.sort()\n",
    "        \n",
    "    return Roots\n",
    "    \n",
    "print(raices_polinomio(valor_s))\n"
   ]
  },
  {
   "cell_type": "code",
   "execution_count": null,
   "id": "729703b7",
   "metadata": {},
   "outputs": [],
   "source": []
  },
  {
   "cell_type": "code",
   "execution_count": null,
   "id": "44dd2fe1",
   "metadata": {},
   "outputs": [],
   "source": []
  },
  {
   "cell_type": "code",
   "execution_count": null,
   "id": "32a7612a",
   "metadata": {},
   "outputs": [],
   "source": []
  },
  {
   "cell_type": "code",
   "execution_count": null,
   "id": "d16fbba3",
   "metadata": {},
   "outputs": [],
   "source": []
  },
  {
   "cell_type": "code",
   "execution_count": null,
   "id": "8d4b64fc",
   "metadata": {},
   "outputs": [],
   "source": []
  }
 ],
 "metadata": {
  "kernelspec": {
   "display_name": "Python 3 (ipykernel)",
   "language": "python",
   "name": "python3"
  },
  "language_info": {
   "codemirror_mode": {
    "name": "ipython",
    "version": 3
   },
   "file_extension": ".py",
   "mimetype": "text/x-python",
   "name": "python",
   "nbconvert_exporter": "python",
   "pygments_lexer": "ipython3",
   "version": "3.9.13"
  }
 },
 "nbformat": 4,
 "nbformat_minor": 5
}
