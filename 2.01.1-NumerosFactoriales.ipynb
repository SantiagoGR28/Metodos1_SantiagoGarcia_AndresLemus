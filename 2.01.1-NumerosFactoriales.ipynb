{
 "cells": [
  {
   "cell_type": "code",
   "execution_count": 5,
   "id": "b9fd247c",
   "metadata": {},
   "outputs": [
    {
     "name": "stdout",
     "output_type": "stream",
     "text": [
      "El número factorial de 20 es 2432902008176640000\n"
     ]
    }
   ],
   "source": [
    "def numero_factorial(numero): \n",
    "    if numero < 0: \n",
    "        print(\"No existe el numero factorial de números negativos\")\n",
    "\n",
    "    elif numero == 0: \n",
    "        return 1\n",
    "        \n",
    "    else: \n",
    "        factorial = 1\n",
    "        while(numero > 1): \n",
    "            factorial *= numero \n",
    "            numero -= 1\n",
    "        return factorial \n",
    "\n",
    "numero = 20; \n",
    "\n",
    "print(\"El número factorial de\",numero,\"es\", numero_factorial(numero)) \n"
   ]
  },
  {
   "cell_type": "code",
   "execution_count": null,
   "id": "ae3a1b29",
   "metadata": {},
   "outputs": [],
   "source": []
  }
 ],
 "metadata": {
  "kernelspec": {
   "display_name": "Python 3",
   "language": "python",
   "name": "python3"
  },
  "language_info": {
   "codemirror_mode": {
    "name": "ipython",
    "version": 3
   },
   "file_extension": ".py",
   "mimetype": "text/x-python",
   "name": "python",
   "nbconvert_exporter": "python",
   "pygments_lexer": "ipython3",
   "version": "3.8.8"
  }
 },
 "nbformat": 4,
 "nbformat_minor": 5
}
